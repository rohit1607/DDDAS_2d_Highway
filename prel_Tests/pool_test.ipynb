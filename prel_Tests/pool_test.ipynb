{
 "cells": [
  {
   "cell_type": "code",
   "execution_count": 1,
   "metadata": {},
   "outputs": [],
   "source": [
    "import multiprocessing as mp"
   ]
  },
  {
   "cell_type": "code",
   "execution_count": 2,
   "metadata": {},
   "outputs": [],
   "source": [
    "import numpy as np\n",
    "from time import time\n",
    "\n",
    "# Prepare data\n",
    "np.random.RandomState(100)\n",
    "arr = np.random.randint(0, 10, size=[2000000, 5])\n",
    "data = arr.tolist()\n",
    "# data[:1000]"
   ]
  },
  {
   "cell_type": "code",
   "execution_count": 3,
   "metadata": {},
   "outputs": [
    {
     "name": "stdout",
     "output_type": "stream",
     "text": [
      "time taken 1.217912197113037\n"
     ]
    }
   ],
   "source": [
    "\n",
    "def howmany_within_range(row, minimum, maximum):\n",
    "    \"\"\"Returns how many numbers lie within `maximum` and `minimum` in a given `row`\"\"\"\n",
    "    count = 0\n",
    "    for n in row:\n",
    "        if minimum <= n <= maximum:\n",
    "            count = count + 1\n",
    "    return count\n",
    "\n",
    "results = []\n",
    "t0 = time()\n",
    "for row in data:\n",
    "    results.append(howmany_within_range(row, minimum=4, maximum=8))\n",
    "t1 = time()\n",
    "print(\"time taken\",t1 -t0)\n",
    "# print(results[:10])\n"
   ]
  },
  {
   "cell_type": "code",
   "execution_count": 4,
   "metadata": {},
   "outputs": [
    {
     "name": "stdout",
     "output_type": "stream",
     "text": [
      "par time taken:  181.56602215766907\n"
     ]
    }
   ],
   "source": [
    "pt0 = time()\n",
    "\n",
    "pool = mp.Pool(mp.cpu_count())\n",
    "\n",
    "# Step 2: `pool.apply` the `howmany_within_range()`\n",
    "results = [pool.apply(howmany_within_range, args=(row, 4, 8)) for row in data]\n",
    "# Step 3: Don't forget to close\n",
    "pool.close()    \n",
    "pt1 = time()\n",
    "\n",
    "print(\"par time taken: \",pt1 -pt0 )\n",
    "# print(results[:10])"
   ]
  },
  {
   "cell_type": "code",
   "execution_count": null,
   "metadata": {},
   "outputs": [],
   "source": [
    "import numpy as np\n",
    "import time\n",
    "\n",
    "vs = np.linspace(0,1000,1001)\n",
    "st = np.linspace(0,100,101)\n",
    "acs = np.linspace(0,1500,1501)\n",
    "\n",
    "\n",
    "def init_dict(acs):\n",
    "    tdict = {}\n",
    "    for a in acs:\n",
    "        tdict[a] = {}\n",
    "    return tdict\n",
    "    \n",
    "    \n",
    "def add(a,b):\n",
    "    return a+b\n",
    "\n",
    "\n",
    "def test(tdict, acs, vs):\n",
    "    for a in acs:\n",
    "        for v in vs:\n",
    "            c = add(a,v)\n",
    "            if not tdict[a].get(c):\n",
    "                tdict[a][c] = 1\n",
    "            else:\n",
    "                tdict[a][c] += 1\n",
    "    return tdict\n",
    "\n",
    "\n",
    "def test2(tdict, a, vs):\n",
    "    for v in vs:\n",
    "        c = add(a,v)\n",
    "        if not tdict[a].get(c):\n",
    "            tdict[a][c] = 1\n",
    "        else:\n",
    "            tdict[a][c] += 1\n",
    "    return tdict\n",
    "\n",
    "        \n",
    "    "
   ]
  },
  {
   "cell_type": "code",
   "execution_count": null,
   "metadata": {},
   "outputs": [],
   "source": [
    "tdict = init_dict(acs)\n",
    "t0 = time.time()\n",
    "soln = test(tdict, acs, vs)\n",
    "t1 = time.time()\n",
    "print(\"time taken = \", t1 -t0)\n"
   ]
  },
  {
   "cell_type": "code",
   "execution_count": null,
   "metadata": {},
   "outputs": [],
   "source": [
    "pool = mp.Pool(mp.cpu_count())\n",
    "tdict = init_dict(acs)\n",
    "\n",
    "pt0 = time.time()\n",
    "psoln = pool.apply(test, args=(tdict, acs, vs))\n",
    "pt1 = time.time()\n",
    "pool.close()\n",
    "print(\"par time taken = \", pt1 - pt0)\n"
   ]
  },
  {
   "cell_type": "code",
   "execution_count": null,
   "metadata": {},
   "outputs": [],
   "source": [
    "tdict = init_dict(acs)\n",
    "\n",
    "t0 = time.time()\n",
    "for a in acs:\n",
    "    tdict = test2(tdict, a, vs)\n",
    "t1 = time.time()\n",
    "print(\"time taken = \", t1 -t0)\n"
   ]
  },
  {
   "cell_type": "code",
   "execution_count": null,
   "metadata": {},
   "outputs": [],
   "source": [
    "\n",
    "pool = mp.Pool(mp.cpu_count())\n",
    "tdict = init_dict(acs)\n",
    "\n",
    "pt0 = time.time()\n",
    "for a in acs:\n",
    "    print(a)\n",
    "    tdict = pool.apply(test2, args=(tdict, a, vs))\n",
    "pt1 = time.time()\n",
    "pool.close()\n",
    "print(\"par time taken = \", pt1 - pt0)\n",
    "\n",
    "#Result: takes too much time. much slower compared to serial version!"
   ]
  },
  {
   "cell_type": "code",
   "execution_count": 5,
   "metadata": {},
   "outputs": [
    {
     "data": {
      "text/plain": [
       "2000.0000000000002"
      ]
     },
     "execution_count": 5,
     "metadata": {},
     "output_type": "execute_result"
    }
   ],
   "source": [
    "25e10*8*1e-9"
   ]
  },
  {
   "cell_type": "code",
   "execution_count": null,
   "metadata": {},
   "outputs": [],
   "source": []
  }
 ],
 "metadata": {
  "kernelspec": {
   "display_name": "Python 3",
   "language": "python",
   "name": "python3"
  },
  "language_info": {
   "codemirror_mode": {
    "name": "ipython",
    "version": 3
   },
   "file_extension": ".py",
   "mimetype": "text/x-python",
   "name": "python",
   "nbconvert_exporter": "python",
   "pygments_lexer": "ipython3",
   "version": "3.7.3"
  },
  "varInspector": {
   "cols": {
    "lenName": 16,
    "lenType": 16,
    "lenVar": 40
   },
   "kernels_config": {
    "python": {
     "delete_cmd_postfix": "",
     "delete_cmd_prefix": "del ",
     "library": "var_list.py",
     "varRefreshCmd": "print(var_dic_list())"
    },
    "r": {
     "delete_cmd_postfix": ") ",
     "delete_cmd_prefix": "rm(",
     "library": "var_list.r",
     "varRefreshCmd": "cat(var_dic_list()) "
    }
   },
   "types_to_exclude": [
    "module",
    "function",
    "builtin_function_or_method",
    "instance",
    "_Feature"
   ],
   "window_display": false
  }
 },
 "nbformat": 4,
 "nbformat_minor": 2
}
