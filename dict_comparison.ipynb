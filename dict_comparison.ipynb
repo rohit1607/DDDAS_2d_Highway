{
 "cells": [
  {
   "cell_type": "code",
   "execution_count": 1,
   "metadata": {},
   "outputs": [],
   "source": [
    "from utils.custom_functions import read_pickled_File"
   ]
  },
  {
   "cell_type": "code",
   "execution_count": 2,
   "metadata": {},
   "outputs": [],
   "source": [
    "gpu_dictf = '/home/rohit/Documents/Research/ICRA_2020/DDDAS_2D_Highway/DP/Trans_matxs_3D/GPU_testGrid_6_3D_20nT_a16/GPU_testGrid_6_3D_20nT_a16'\n",
    "gpu_coof = '/home/rohit/Documents/Research/ICRA_2020/DDDAS_2D_Highway/DP/Trans_matxs_3D/GPU_testGrid_6_3D_20nT_a16/GPU_testGrid_6_3D_20nT_a16_COO'\n",
    "gpu_rsaf = '/home/rohit/Documents/Research/ICRA_2020/DDDAS_2D_Highway/DP/Trans_matxs_3D/GPU_testGrid_6_3D_20nT_a16/GPU_testGrid_6_3D_20nT_a16_Rsa'\n",
    "cpu_dictf = '/home/rohit/Documents/Research/ICRA_2020/DDDAS_2D_Highway/DP/Trans_matxs_3D/CPU_testGrid_4_16a/CPU_testGrid_4_16a'\n"
   ]
  },
  {
   "cell_type": "code",
   "execution_count": 3,
   "metadata": {
    "scrolled": true
   },
   "outputs": [
    {
     "name": "stdout",
     "output_type": "stream",
     "text": [
      "READING /home/rohit/Documents/Research/ICRA_2020/DDDAS_2D_Highway/DP/Trans_matxs_3D/GPU_testGrid_6_3D_20nT_a16/GPU_testGrid_6_3D_20nT_a16.p\n",
      "READING /home/rohit/Documents/Research/ICRA_2020/DDDAS_2D_Highway/DP/Trans_matxs_3D/CPU_testGrid_4_16a/CPU_testGrid_4_16a.p\n",
      "READING /home/rohit/Documents/Research/ICRA_2020/DDDAS_2D_Highway/DP/Trans_matxs_3D/GPU_testGrid_6_3D_20nT_a16/GPU_testGrid_6_3D_20nT_a16_COO.p\n",
      "READING /home/rohit/Documents/Research/ICRA_2020/DDDAS_2D_Highway/DP/Trans_matxs_3D/GPU_testGrid_6_3D_20nT_a16/GPU_testGrid_6_3D_20nT_a16_Rsa.p\n"
     ]
    }
   ],
   "source": [
    "gpu_tdict = read_pickled_File(gpu_dictf)\n",
    "cpu_tdict = read_pickled_File(cpu_dictf)\n",
    "gpu_coo = read_pickled_File(gpu_coof)\n",
    "gpu_rsa = read_pickled_File(gpu_rsaf)"
   ]
  },
  {
   "cell_type": "code",
   "execution_count": 4,
   "metadata": {},
   "outputs": [
    {
     "data": {
      "text/plain": [
       "array([-101., -101., -101., ..., -101., -101., -201.], dtype=float32)"
      ]
     },
     "execution_count": 4,
     "metadata": {},
     "output_type": "execute_result"
    }
   ],
   "source": [
    "gpu_rsa[0]"
   ]
  },
  {
   "cell_type": "code",
   "execution_count": null,
   "metadata": {},
   "outputs": [],
   "source": [
    "gpu_tdict"
   ]
  },
  {
   "cell_type": "code",
   "execution_count": null,
   "metadata": {},
   "outputs": [],
   "source": [
    "cpu_tdict"
   ]
  },
  {
   "cell_type": "code",
   "execution_count": 5,
   "metadata": {
    "scrolled": true
   },
   "outputs": [
    {
     "name": "stdout",
     "output_type": "stream",
     "text": [
      "0.0 {(2, 1, 2): [1.0, -1.0]} {(2, 1, 2): (1.0, -1.0)}\n",
      "0.39269908169872 {(2, 1, 2): [1.0, -1.382683432365086]} {(2, 1, 2): (1.0, -1.3826832)}\n",
      "0.78539816339745 {(2, 0, 2): [1.0, -101.41421356237309]} {(2, 0, 2): (1.0, -101.414215)}\n",
      "1.17809724509617 {(2, 0, 1): [1.0, -101.3826834323651]} {(2, 0, 1): (1.0, -101.38267)}\n",
      "1.5707963267949 {(2, 0, 1): [1.0, -101.0]} {(2, 0, 1): (1.0, -101.0)}\n",
      "1.96349540849362 {(2, 0, 1): [1.0, -101.38268343236508]} {(2, 0, 1): (1.0, -101.38267)}\n",
      "2.35619449019234 {(2, 0, 0): [1.0, -101.41421356237309]} {(2, 0, 0): (1.0, -101.414215)}\n",
      "2.74889357189107 {(2, 1, 0): [1.0, -101.38268343236508]} {(2, 1, 0): (1.0, -101.38267)}\n",
      "3.14159265358979 {(2, 1, 0): [1.0, -101.0]} {(2, 1, 0): (1.0, -101.0)}\n",
      "3.53429173528852 {(2, 1, 0): [1.0, -101.3826834323651]} {(2, 1, 0): (1.0, -101.38267)}\n",
      "3.92699081698724 {(2, 2, 0): [1.0, -101.41421356237309]} {(2, 2, 0): (1.0, -101.414215)}\n",
      "4.31968989868597 {(2, 2, 1): [1.0, -1.3826834323650852]} {(2, 2, 1): (1.0, -1.3826832)}\n",
      "4.71238898038469 {(2, 2, 1): [1.0, -1.0]} {(2, 2, 1): (1.0, -1.0)}\n",
      "5.10508806208341 {(2, 2, 1): [1.0, -1.382683432365086]} {(2, 2, 1): (1.0, -1.3826832)}\n",
      "5.49778714378214 {(2, 2, 2): [1.0, -1.414213562373097]} {(2, 2, 2): (1.0, -1.4142144)}\n",
      "5.89048622548086 {(2, 1, 2): [1.0, -1.382683432365092]} {(2, 1, 2): (1.0, -1.3826838)}\n"
     ]
    }
   ],
   "source": [
    "test_state = (1,1,1)\n",
    "for action in gpu_tdict[test_state]:\n",
    "    print(action[1], cpu_tdict[test_state][action], gpu_tdict[test_state][action])"
   ]
  },
  {
   "cell_type": "code",
   "execution_count": 6,
   "metadata": {},
   "outputs": [
    {
     "name": "stdout",
     "output_type": "stream",
     "text": [
      "1881\n"
     ]
    }
   ],
   "source": [
    "s1 = [s for s in cpu_tdict.keys()]\n",
    "count = 0\n",
    "for s in s1:\n",
    "    a_cpu = [a for a in cpu_tdict[s].keys()]\n",
    "    a_gpu = [a for a in gpu_tdict[s].keys()]\n",
    "    if (a_cpu == a_gpu):\n",
    "        count +=1\n",
    "        #print(s)\n",
    "print(count)\n",
    "\n",
    "#We establish that has the same s1s and for each s1 they have the same action_list"
   ]
  },
  {
   "cell_type": "code",
   "execution_count": 7,
   "metadata": {},
   "outputs": [
    {
     "name": "stdout",
     "output_type": "stream",
     "text": [
      "bcounts=  0\n",
      "gcounts=  30096\n"
     ]
    }
   ],
   "source": [
    "s1list = [s for s in cpu_tdict.keys()]\n",
    "bcount = 0\n",
    "gcount = 0\n",
    "for s1 in s1list:\n",
    "    a_cpu = [a for a in cpu_tdict[s1].keys()]\n",
    "    for a in a_cpu:\n",
    "        s2list_cpu = [s for s in cpu_tdict[s1][a].keys()]\n",
    "        s2list_gpu = [s for s in gpu_tdict[s1][a].keys()]\n",
    "        if s2list_cpu != s2list_gpu:\n",
    "            bcount+=1\n",
    "        else:\n",
    "            gcount+=1\n",
    "print(\"bcounts= \", bcount)\n",
    "print(\"gcounts= \", gcount)\n",
    "\n",
    "#We establish that the dictionaries are same upt  s1 , a, s2 lists. "
   ]
  },
  {
   "cell_type": "code",
   "execution_count": 8,
   "metadata": {
    "scrolled": true
   },
   "outputs": [
    {
     "name": "stdout",
     "output_type": "stream",
     "text": [
      "bcounts=  0\n",
      "gcounts=  30096\n"
     ]
    }
   ],
   "source": [
    "import numpy as np\n",
    "from math import isclose\n",
    "tol = 1e-3\n",
    "s1list = [s for s in cpu_tdict.keys()]\n",
    "bcount = 0\n",
    "gcount = 0\n",
    "for s1 in s1list:\n",
    "    a_cpu = [a for a in cpu_tdict[s1].keys()]\n",
    "    for a in a_cpu:\n",
    "        s2list_cpu= [s for s in cpu_tdict[s1][a].keys()]\n",
    "        for s2 in s2list_cpu:\n",
    "            p_c, r_c = cpu_tdict[s1][a][s2]\n",
    "            p_g, r_g = gpu_tdict[s1][a][s2]\n",
    "            #r_c = np.float(np.round(r_c,3))\n",
    "            #r_g = np.float(np.round(r_g, 3))\n",
    "            #p_c = np.float(p_c)\n",
    "            #p_g = np.float(p_g)\n",
    "            #vc = np.array((p_c, r_c), dtype= np.float32)\n",
    "            #vg = np.array((p_g, r_g), dtype= np.float32)\n",
    "            if isclose(p_c, p_g, abs_tol=tol) and isclose(r_c, r_g, abs_tol=tol):\n",
    "                gcount+=1\n",
    "                #print((p_c,p_g) , (r_c, r_g), s1, a, s2)\n",
    "            else:\n",
    "                bcount+=1\n",
    "                print( s1, a[1], s2, (p_c,p_g) , (r_c, r_g))\n",
    "print(\"bcounts= \", bcount)\n",
    "print(\"gcounts= \", gcount)"
   ]
  },
  {
   "cell_type": "code",
   "execution_count": null,
   "metadata": {},
   "outputs": [],
   "source": [
    "(1,2) ==(1,2)\n",
    "1 ==1\n",
    "t = np.array([1,2.22222334443], dtype=np.float32)\n",
    "st = t == t\n",
    "st[0] == True\n",
    "from math import isclose\n",
    "isclose(1.003345,1.003465, abs_tol=1e-3)"
   ]
  },
  {
   "cell_type": "code",
   "execution_count": null,
   "metadata": {
    "scrolled": true
   },
   "outputs": [],
   "source": [
    "test_state = (0,2,2)\n",
    "for action in gpu_tdict[test_state]:\n",
    "    print(action[1], cpu_tdict[test_state][action].keys(), gpu_tdict[test_state][action].keys())"
   ]
  },
  {
   "cell_type": "code",
   "execution_count": null,
   "metadata": {},
   "outputs": [],
   "source": [
    "from utils.setup_grid import setup_grid\n",
    "\n",
    "g, xs, ys, X, Y, Vx_rzns, Vy_rzns, num_rzns, path_mat, params, param_str = setup_grid(num_actions =16, nt =3)\n"
   ]
  },
  {
   "cell_type": "code",
   "execution_count": null,
   "metadata": {},
   "outputs": [],
   "source": [
    "ac_st_sp = g.ac_state_space()"
   ]
  },
  {
   "cell_type": "code",
   "execution_count": null,
   "metadata": {
    "scrolled": true
   },
   "outputs": [],
   "source": [
    "ac_st_sp[-5:]\n"
   ]
  },
  {
   "cell_type": "code",
   "execution_count": null,
   "metadata": {},
   "outputs": [],
   "source": []
  }
 ],
 "metadata": {
  "kernelspec": {
   "display_name": "Python 3",
   "language": "python",
   "name": "python3"
  },
  "language_info": {
   "codemirror_mode": {
    "name": "ipython",
    "version": 3
   },
   "file_extension": ".py",
   "mimetype": "text/x-python",
   "name": "python",
   "nbconvert_exporter": "python",
   "pygments_lexer": "ipython3",
   "version": "3.7.4"
  }
 },
 "nbformat": 4,
 "nbformat_minor": 4
}
