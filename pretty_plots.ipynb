{
 "cells": [
  {
   "cell_type": "code",
   "execution_count": 1,
   "metadata": {},
   "outputs": [],
   "source": [
    "from utils.setup_grid import setup_grid\n",
    "import pickle\n",
    "from definition import ROOT_DIR\n",
    "from os.path import join\n",
    "import matplotlib.pyplot as plt\n",
    "import numpy as np"
   ]
  },
  {
   "cell_type": "code",
   "execution_count": 2,
   "metadata": {},
   "outputs": [],
   "source": [
    "with open(ROOT_DIR+'/Experiments/117/DP/Traj_set_.p', 'rb') as fp:\n",
    "    traj_list = pickle.load(fp)"
   ]
  },
  {
   "cell_type": "code",
   "execution_count": 3,
   "metadata": {},
   "outputs": [
    {
     "name": "stdout",
     "output_type": "stream",
     "text": [
      "Grid Setup Complete !\n"
     ]
    }
   ],
   "source": [
    "g, xs, ys, X, Y, Vx_rzns, Vy_rzns, num_rzns, paths, params, param_str = setup_grid(num_actions=16)"
   ]
  },
  {
   "cell_type": "code",
   "execution_count": 74,
   "metadata": {},
   "outputs": [],
   "source": [
    "def pretty_plot_exact_trajectory_set(g, traj_list, X, Y, vStream_x, vStream_y, fpath, fname='pretty_traj_set'):\n",
    "    msize = 15\n",
    "    fsize = 3\n",
    "    \n",
    "    # time calculation and state trajectory\n",
    "    fig = plt.figure(figsize=(fsize, fsize))\n",
    "    ax = fig.add_subplot(1, 1, 1)\n",
    "    ax.set_xlim(0,100)\n",
    "    ax.set_ylim(0,100)\n",
    "    # set grid\n",
    "\n",
    "    minor_ticks = [i for i in range(101) if i%20!=0]\n",
    "    major_ticks = [i for i in range(0,120,20)]\n",
    "\n",
    "    ax.set_xticks(minor_ticks, minor=True)\n",
    "    ax.set_xticks(major_ticks, minor=False)\n",
    "    ax.set_yticks(major_ticks, minor=False)\n",
    "    ax.set_yticks(minor_ticks, minor=True)\n",
    "    \n",
    "    ax.grid(b= True, which='both', color='#CCCCCC', axis='both',linestyle = '-', alpha = 0.5)\n",
    "    ax.tick_params(axis='both', which='both', labelsize=6)\n",
    "\n",
    "    ax.set_xlabel('X (Non-Dim)')\n",
    "    ax.set_ylabel('Y (Non-Dim)')\n",
    "\n",
    "    st_point= g.start_state\n",
    "    plt.scatter(g.xs[st_point[1]], g.ys[g.ni - 1 - st_point[0]], marker = 'o', s = msize, color = 'k', zorder = 1e5)\n",
    "    plt.scatter(g.xs[g.endpos[1]], g.ys[g.ni - 1 - g.endpos[0]], marker = '*', s = msize*2, color ='k', zorder = 1e5)\n",
    "    plt.gca().set_aspect('equal', adjustable='box')\n",
    "\n",
    "    for xtr, ytr in traj_list:\n",
    "        plt.plot(xtr,ytr)\n",
    "\n",
    "    plt.savefig(fname,bbox_inches = \"tight\", dpi =300)\n",
    "    plt.show()\n",
    "    return fig"
   ]
  },
  {
   "cell_type": "code",
   "execution_count": 75,
   "metadata": {},
   "outputs": [
    {
     "data": {
      "image/png": "[encoded data removed]",
      "text/plain": [
       "<Figure size 216x216 with 1 Axes>"
      ]
     },
     "metadata": {
      "needs_background": "light"
     },
     "output_type": "display_data"
    }
   ],
   "source": [
    "fig = pretty_plot_exact_trajectory_set(g, traj_list, X, Y, Vx_rzns, Vy_rzns, ROOT_DIR+'/Experiments/117/DP/', fname='pretty_traj_set')"
   ]
  },
  {
   "cell_type": "code",
   "execution_count": 55,
   "metadata": {},
   "outputs": [
    {
     "data": {
      "text/plain": [
       "[0, 20, 40, 60, 80, 100]"
      ]
     },
     "execution_count": 55,
     "metadata": {},
     "output_type": "execute_result"
    }
   ],
   "source": [
    "minor_ticks = [i for i in range(101) if i%20!=0]\n",
    "major_ticks = [i for i in range(0,120,20)]\n",
    "major_ticks"
   ]
  },
  {
   "cell_type": "code",
   "execution_count": null,
   "metadata": {},
   "outputs": [],
   "source": []
  }
 ],
 "metadata": {
  "kernelspec": {
   "display_name": "Python 3",
   "language": "python",
   "name": "python3"
  },
  "language_info": {
   "codemirror_mode": {
    "name": "ipython",
    "version": 3
   },
   "file_extension": ".py",
   "mimetype": "text/x-python",
   "name": "python",
   "nbconvert_exporter": "python",
   "pygments_lexer": "ipython3",
   "version": "3.7.3"
  },
  "varInspector": {
   "cols": {
    "lenName": 16,
    "lenType": 16,
    "lenVar": 40
   },
   "kernels_config": {
    "python": {
     "delete_cmd_postfix": "",
     "delete_cmd_prefix": "del ",
     "library": "var_list.py",
     "varRefreshCmd": "print(var_dic_list())"
    },
    "r": {
     "delete_cmd_postfix": ") ",
     "delete_cmd_prefix": "rm(",
     "library": "var_list.r",
     "varRefreshCmd": "cat(var_dic_list()) "
    }
   },
   "types_to_exclude": [
    "module",
    "function",
    "builtin_function_or_method",
    "instance",
    "_Feature"
   ],
   "window_display": false
  }
 },
 "nbformat": 4,
 "nbformat_minor": 4
}
